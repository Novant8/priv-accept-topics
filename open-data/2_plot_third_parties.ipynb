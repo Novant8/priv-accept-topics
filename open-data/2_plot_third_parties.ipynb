{
 "cells": [
  {
   "cell_type": "code",
   "execution_count": 1,
   "id": "corporate-creature",
   "metadata": {},
   "outputs": [
    {
     "name": "stderr",
     "output_type": "stream",
     "text": [
      "\n",
      "Bad key \"text.kerning_factor\" on line 4 in\n",
      "/opt/anaconda3/envs/bigdatalab_cpu_202101/lib/python3.7/site-packages/matplotlib/mpl-data/stylelib/_classic_test_patch.mplstyle.\n",
      "You probably need to get an updated matplotlibrc file from\n",
      "https://github.com/matplotlib/matplotlib/blob/v3.1.2/matplotlibrc.template\n",
      "or from the matplotlib source distribution\n"
     ]
    }
   ],
   "source": [
    "import pandas as pd\n",
    "import glob\n",
    "import os\n",
    "import json\n",
    "import numpy as np\n",
    "from  cycler import cycler\n",
    "import fastplot\n",
    "from collections import Counter, defaultdict\n",
    "from statistics import mode\n",
    "import re\n",
    "import statsmodels.stats.proportion\n",
    "\n",
    "\n",
    "CYCLER_LINESPOINTS=(cycler('color', ['r', 'b', 'g', 'purple', 'c']) +\n",
    "                    cycler('linestyle', ['-', '--', '-.', ':', (0, (3, 1, 1, 1)) ]) +\n",
    "                    cycler('marker', ['o', 's', 'v', 'd', '^' ]))\n",
    "\n",
    "CYCLER_LINES=(cycler('color', ['r', 'b', 'g', 'purple', 'c']) +\n",
    "                    cycler('linestyle', ['-', '--', '-.', ':', (0, (3, 1, 1, 1)) ]))\n",
    "\n",
    "PLOT_ARGS = {\"style\":\"latex\", \"grid\":True, \"figsize\":(4.25,2.5), \"rcParams\":{'text.latex.preamble': r'\\usepackage{libertine}'}, \"legend_args\":{\"columnspacing\":1, \"handlelength\":1.5}}\n",
    "\n",
    "PLOT_ARGS_LARGE = {\"style\":\"latex\", \"grid\":True, \"figsize\":(9,2.75), \"rcParams\":{'text.latex.preamble': r'\\usepackage{libertine}'}, \"legend_args\":{\"columnspacing\":1, \"handlelength\":1.5}}\n",
    "\n",
    "BEFORE_STR = \"\\\\emph{Before-Accept}\"\n",
    "AFTER_STR = \"\\\\emph{After-Accept}\"\n",
    "\n",
    "TRANSLATE_CATEGORIES = {\"Computers Electronics and Technology\": \"Computers and Technology\",\n",
    "                        \"Business and Consumer Services\": \"Business and Services\",\n",
    "                        \"Heavy Industry and Engineering\": \"Industry and Engineering\"}\n",
    "\n",
    "COUNTRY_TRAD={\"it\":\"Italy\", \"fr\":\"France\", \"de\":\"Germany\", \"es\":\"Spain\", \"uk\":\"UK\", \"us\": \"US\"}\n",
    "\n",
    "%matplotlib inline"
   ]
  },
  {
   "cell_type": "code",
   "execution_count": 13,
   "id": "english-champagne",
   "metadata": {},
   "outputs": [],
   "source": [
    "trackers = set( open(\"trackers-list.txt\", \"r\").read().splitlines() )\n",
    "\n",
    "similarweb_websites=defaultdict(set)\n",
    "for c in [\"it\", \"es\", \"fr\", \"de\", \"uk\", \"us\"]:\n",
    "    similarweb_websites[c] = set(open(\"similarweb/{}.txt\".format(c), \"r\" ).read().splitlines()) \n",
    "    "
   ]
  },
  {
   "cell_type": "code",
   "execution_count": 3,
   "id": "covered-shaft",
   "metadata": {},
   "outputs": [],
   "source": [
    "bad_domains=set(\"co.uk co.jp co.hu co.il com.au co.ve .co.in com.ec com.pk co.th co.nz com.br com.sg com.sa \\\n",
    "com.do co.za com.hk com.mx com.ly com.ua com.eg com.pe com.tr co.kr com.ng com.pe com.pk co.th \\\n",
    "com.au com.ph com.my com.tw com.ec com.kw co.in co.id com.com com.vn com.bd com.ar \\\n",
    "com.co com.vn org.uk net.gr\".split())\n",
    "\n",
    "def getGood2LD(fqdn):\n",
    "    if fqdn[-1] == \".\":\n",
    "        fqdn = fqdn[:-1]    \n",
    "    names = fqdn.split(\".\")\n",
    "    if \".\".join(names[-2:]) in bad_domains:\n",
    "        return get3LD(fqdn)\n",
    "    tln_array = names[-2:]\n",
    "    tln = \"\"\n",
    "    for s in tln_array:\n",
    "        tln = tln + \".\" + s\n",
    "    return tln[1:]\n",
    "\n",
    "def get3LD(fqdn):\n",
    "    if fqdn[-1] == \".\":\n",
    "        fqdn = fqdn[:-1]\n",
    "    names = fqdn.split(\".\")\n",
    "    tln_array = names[-3:]\n",
    "    tln = \"\"\n",
    "    for s in tln_array:\n",
    "        tln = tln + \".\" + s\n",
    "    return tln[1:]"
   ]
  },
  {
   "cell_type": "code",
   "execution_count": 7,
   "id": "dense-paris",
   "metadata": {},
   "outputs": [],
   "source": [
    "df = pd.read_csv(\"data/similarweb-from-it.csv\")\n",
    "\n",
    "df[\"sld\"] = df[\"url\"].apply(lambda u: getGood2LD(u.split(\"/\")[2] ).strip() ) \n",
    "df[\"tld\"] = df[\"url\"].apply(lambda u: get3LD(u.split(\"/\")[2] ).strip()  ) \n"
   ]
  },
  {
   "cell_type": "code",
   "execution_count": 8,
   "id": "accessory-pierce",
   "metadata": {},
   "outputs": [],
   "source": [
    "for country in similarweb_websites:\n",
    "    df[country] = (df.sld.isin(similarweb_websites[country])) | (df.tld.isin(similarweb_websites[country]))\n"
   ]
  },
  {
   "cell_type": "code",
   "execution_count": 9,
   "id": "great-nightlife",
   "metadata": {},
   "outputs": [],
   "source": [
    "similarweb_csv = pd.read_csv(\"similarweb/similarweb.csv\")\n",
    "similarweb_csv[\"category\"] = similarweb_csv[\"category\"].apply(lambda s: TRANSLATE_CATEGORIES[s] if s in TRANSLATE_CATEGORIES else s)\n",
    "\n",
    "categories = defaultdict(set)\n",
    "\n",
    "for row in similarweb_csv.itertuples():\n",
    "    if row.category != \"ALL\" and row.country in {\"it\", \"es\", \"fr\", \"de\", \"uk\"} :\n",
    "        categories[row.category].add(row.website)\n",
    "        \n",
    "for category in categories:\n",
    "    df[category] = (df.sld.isin(categories[category])) | (df.tld.isin(categories[category]))\n",
    "\n"
   ]
  },
  {
   "cell_type": "code",
   "execution_count": 10,
   "id": "aquatic-laundry",
   "metadata": {},
   "outputs": [],
   "source": [
    "def get_trackers(s):\n",
    "    d = json.loads(s)\n",
    "    this_trackers = set()\n",
    "    for c in d:\n",
    "        if (c[\"domain\"] in trackers or getGood2LD(c[\"domain\"]) in trackers or get3LD(c[\"domain\"]) in trackers) and c[\"expires\"] > 0:\n",
    "            this_trackers.add(getGood2LD(c[\"domain\"]))\n",
    "    return list(this_trackers)\n",
    "\n",
    "df[\"trackers_first\"] = df[\"cookie_first\"].apply(get_trackers)\n",
    "df[\"trackers_click\"] = df[\"cookie_click\"].apply(get_trackers)\n",
    "df[\"trackers_internal\"] = df[\"cookie_internal\"].apply(get_trackers)"
   ]
  },
  {
   "cell_type": "code",
   "execution_count": 11,
   "id": "periodic-ireland",
   "metadata": {},
   "outputs": [],
   "source": [
    "def website_stats(this_df):\n",
    "    num = len(this_df.index)\n",
    "    trackers_first = set()\n",
    "    trackers_click = set()\n",
    "    trackers_internal = set()\n",
    "    has_found_banner = False\n",
    "    \n",
    "    tp_first = set()\n",
    "    tp_click = set()\n",
    "    \n",
    "    countries = { c:False for c in similarweb_websites.keys()}\n",
    "    cats = { c:False for c in categories.keys()}\n",
    "    #+ list(similarweb_websites.keys()) + list(categories.keys())\n",
    "    \n",
    "    \n",
    "    for i, row in this_df.iterrows():\n",
    "\n",
    "        trackers_first |= set(row.trackers_first)\n",
    "        trackers_click |= set(row.trackers_click)\n",
    "        trackers_internal |= set(row.trackers_internal)\n",
    "        \n",
    "        tp_first |= set([ getGood2LD(d) for d in json.loads(row.domains_first) if d != \"\"] )\n",
    "        tp_click |= set([ getGood2LD(d) for d in json.loads(row.domains_click) if d != \"\"])\n",
    "        \n",
    "        for c in list(similarweb_websites.keys()):\n",
    "            countries[c] |= row[c]\n",
    "\n",
    "        for c in list(categories.keys()):\n",
    "            cats[c] |= row[c]\n",
    "            \n",
    "        if row.has_found_banner:\n",
    "            has_found_banner=True\n",
    "        \n",
    "    trackers_only_click = trackers_click - trackers_first\n",
    "       \n",
    "    return pd.Series({\"count\": num,\n",
    "                      \"trackers_first\": trackers_first,\n",
    "                      \"trackers_click\": trackers_click,\n",
    "                      \"trackers_only_click\": trackers_only_click,\n",
    "                      \"trackers_internal\": trackers_internal,\n",
    "                      \"tp_first\": tp_first,\n",
    "                      \"tp_click\": tp_click,\n",
    "                      \"has_found_banner\": has_found_banner,\n",
    "                      \"onload_first\": this_df[\"onload_first\"].median(),\n",
    "                      \"onload_second\": this_df[\"onload_second\"].median(),\n",
    "                      \"rum_first\": this_df[\"rum_first\"].mean(),\n",
    "                      \"rum_second\": this_df[\"rum_second\"].mean(),\n",
    "                      \"objects_first\": this_df[\"objects_first\"].mean(),\n",
    "                      \"objects_second\": this_df[\"objects_second\"].mean(),\n",
    "                      \"bytes_first\": this_df[\"bytes_first\"].median(),\n",
    "                      \"bytes_second\": this_df[\"bytes_second\"].median(),\n",
    "                      \"byte_index_first\": this_df[\"byte_index_first\"].mean(),\n",
    "                      \"object_index_first\": this_df[\"object_index_first\"].mean(),\n",
    "                      \"byte_index_second\": this_df[\"byte_index_second\"].mean(),\n",
    "                      \"object_index_second\": this_df[\"object_index_second\"].mean(),\n",
    "                      **countries, **cats\n",
    "                     })\n",
    "\n",
    "grouped = df.groupby([\"sld\"] ).apply(website_stats).reset_index()"
   ]
  },
  {
   "cell_type": "code",
   "execution_count": 12,
   "id": "seeing-applicant",
   "metadata": {},
   "outputs": [
    {
     "name": "stderr",
     "output_type": "stream",
     "text": [
      "findfont: Font family ['serif'] not found. Falling back to DejaVu Sans.\n"
     ]
    },
    {
     "data": {
      "text/plain": [
       "<Figure size 640x480 with 0 Axes>"
      ]
     },
     "metadata": {},
     "output_type": "display_data"
    },
    {
     "data": {
      "image/png": "[encoded data removed]",
      "text/plain": [
       "<Figure size 425x250 with 1 Axes>"
      ]
     },
     "metadata": {},
     "output_type": "display_data"
    }
   ],
   "source": [
    "occ = Counter()\n",
    "this_grouped = grouped [ grouped[[\"it\", \"es\", \"fr\", \"de\", \"uk\"]].any(axis=1) ] \n",
    "\n",
    "for s in this_grouped[\"tp_first\"].values:\n",
    "    for t in s:\n",
    "        occ[t] +=1\n",
    "        \n",
    "monitor_tp = occ.most_common(15)\n",
    "\n",
    "plot_data = []\n",
    "\n",
    "\n",
    "for tp, _ in monitor_tp:\n",
    "    tot = len(this_grouped.index)\n",
    "    tp_first = len(this_grouped[this_grouped[\"tp_first\"].apply(lambda s: tp in s) ].index)\n",
    "    tp_click = len(this_grouped[this_grouped[\"tp_click\"].apply(lambda s: tp in s) ].index)  \n",
    "    \n",
    "    tracker_first = len(this_grouped[this_grouped[\"trackers_first\"].apply(lambda s: tp in s) ].index)\n",
    "    tracker_click = len(this_grouped[this_grouped[\"trackers_click\"].apply(lambda s: tp in s) ].index) \n",
    "    \n",
    "    plot_data.append({\"tp\": tp,\n",
    "                  BEFORE_STR : tp_first/tot*100,\n",
    "                  AFTER_STR: tp_click/tot*100,\n",
    "                  BEFORE_STR + \" (Tracker)\": tracker_first/tot*100,\n",
    "                  AFTER_STR +\" (Tracker)\": tracker_click/tot*100,    \n",
    "                 })\n",
    "    \n",
    "plot_df = pd.DataFrame(plot_data)\n",
    "plot_df[\"tp\"] = plot_df[\"tp\"].replace(\"google.it\",\"google.*\")\n",
    "plot_df.index = plot_df[\"tp\"]\n",
    "del plot_df[\"tp\"]\n",
    "plot = fastplot.plot( plot_df [[BEFORE_STR, AFTER_STR] ] ,None, \n",
    "               mode='bars_multi', ylabel = 'Pervasiveness [\\\\%]', xticks_rotate = 45, \n",
    "               legend = True, legend_loc='upper right', legend_ncol=1, legend_fontsize = \"small\", xticks_fontsize=\"small\",\n",
    "                     legend_alpha=0.6,\n",
    "               grid_axis=\"y\", yticks = ([0,10,20,30,40,50,60,70,80], None),\n",
    "               ylim = (0,80), **PLOT_ARGS)\n",
    "\n",
    "for p in plot.gca().patches[:len(plot_df)] + [plot.gca().get_legend().get_patches()[0]]:\n",
    "    p.set_hatch(\"\\\\\\\\\\\\\\\\\\\\\")\n",
    "    p.set_edgecolor (\"red\")\n",
    "    p.set_facecolor (\"white\")\n",
    "for p in plot.gca().patches[len(plot_df):]+ [plot.gca().get_legend().get_patches()[1]]:\n",
    "    p.set_hatch(\"/////\")\n",
    "    p.set_edgecolor (\"blue\")\n",
    "    p.set_facecolor (\"white\")\n",
    "    \n",
    "N=this_grouped[\"sld\"].nunique()\n",
    "err = plot_df[[BEFORE_STR, AFTER_STR]].applymap(lambda v: [ e*100 for e in statsmodels.stats.proportion.proportion_confint(v*N/100,N,0.05) ]  )\n",
    "for i, tup in enumerate(err.itertuples()):\n",
    "    plot.gca().plot( (i-0.15,i-0.15), (tup[1]), linestyle=\"-\", color=\"black\"  )\n",
    "    plot.gca().plot( (i+0.15,i+0.15), (tup[2]), linestyle=\"-\", color=\"black\" )\n",
    "\n",
    "plot.savefig(\"plots/cookieaccept_top_tp.pdf\")\n",
    "plot.show()\n",
    "plot_df[\"increase\"] = plot_df[AFTER_STR] - plot_df[BEFORE_STR]\n"
   ]
  }
 ],
 "metadata": {
  "kernelspec": {
   "display_name": "Python 3",
   "language": "python",
   "name": "python3"
  },
  "language_info": {
   "codemirror_mode": {
    "name": "ipython",
    "version": 3
   },
   "file_extension": ".py",
   "mimetype": "text/x-python",
   "name": "python",
   "nbconvert_exporter": "python",
   "pygments_lexer": "ipython3",
   "version": "3.7.9"
  }
 },
 "nbformat": 4,
 "nbformat_minor": 5
}
