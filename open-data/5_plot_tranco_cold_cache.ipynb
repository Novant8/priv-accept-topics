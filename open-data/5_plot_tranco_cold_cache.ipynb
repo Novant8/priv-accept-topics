{
 "cells": [
  {
   "cell_type": "code",
   "execution_count": 1,
   "id": "vulnerable-flavor",
   "metadata": {},
   "outputs": [
    {
     "name": "stderr",
     "output_type": "stream",
     "text": [
      "\n",
      "Bad key \"text.kerning_factor\" on line 4 in\n",
      "/opt/anaconda3/envs/bigdatalab_cpu_202101/lib/python3.7/site-packages/matplotlib/mpl-data/stylelib/_classic_test_patch.mplstyle.\n",
      "You probably need to get an updated matplotlibrc file from\n",
      "https://github.com/matplotlib/matplotlib/blob/v3.1.2/matplotlibrc.template\n",
      "or from the matplotlib source distribution\n"
     ]
    }
   ],
   "source": [
    "import pandas as pd\n",
    "import glob\n",
    "import os\n",
    "import json\n",
    "import numpy as np\n",
    "from  cycler import cycler\n",
    "import fastplot\n",
    "from collections import Counter, defaultdict\n",
    "from statistics import mode\n",
    "import re\n",
    "import scipy.stats\n",
    "\n",
    "\n",
    "CYCLER_LINESPOINTS=(cycler('color', ['r', 'b', 'g', 'purple', 'c']) +\n",
    "                    cycler('linestyle', ['-', '--', '-.', ':', (0, (3, 1, 1, 1)) ]) +\n",
    "                    cycler('marker', ['o', 's', 'v', 'd', '^' ]))\n",
    "\n",
    "CYCLER_LINES=(cycler('color', ['r', 'b', 'g', 'purple', 'c']) +\n",
    "                    cycler('linestyle', ['-', '--', '-.', ':', (0, (3, 1, 1, 1)) ]))\n",
    "\n",
    "\n",
    "PLOT_ARGS = {\"style\":\"latex\", \"grid\":True, \"figsize\":(4.25,2.5), \"rcParams\":{'text.latex.preamble': '\\\\usepackage{libertine}\\n\\\\usepackage{setspace}'}, \"legend_args\":{\"columnspacing\":1, \"handlelength\":1.5}}\n",
    "\n",
    "PLOT_ARGS_LARGE = {\"style\":\"latex\", \"grid\":True, \"figsize\":(9,2.75), \"rcParams\":{'text.latex.preamble': '\\\\usepackage{libertine}\\n\\\\usepackage{setspace}'}, \"legend_args\":{\"columnspacing\":1, \"handlelength\":1.5}}\n",
    "\n",
    "BEFORE_STR = \"\\\\emph{Before-Accept}\"\n",
    "AFTER_STR = \"\\\\emph{After-Accept}\"\n",
    "ADDITIONAL_STR = \"\\\\emph{Additional-Visits}\"\n",
    "\n",
    "\n",
    "TRANSLATE_CATEGORIES = {\"Computers Electronics and Technology\": \"Computers and Technology\",\n",
    "                        \"Business and Consumer Services\": \"Business and Services\",\n",
    "                        \"Heavy Industry and Engineering\": \"Industry and Engineering\"}\n",
    "\n",
    "COUNTRY_TRAD={\"it\":\"Italy\", \"fr\":\"France\", \"de\":\"Germany\", \"es\":\"Spain\", \"uk\":\"UK\", \"us\": \"US\"}\n",
    "\n",
    "%matplotlib inline"
   ]
  },
  {
   "cell_type": "code",
   "execution_count": 2,
   "id": "smoking-digit",
   "metadata": {},
   "outputs": [],
   "source": [
    "trackers = set( open(\"trackers-list.txt\", \"r\").read().splitlines() )\n",
    "\n",
    "similarweb_websites=defaultdict(set)\n",
    "for c in [\"it\", \"es\", \"fr\", \"de\", \"uk\", \"us\"]:\n",
    "    similarweb_websites[c] = set(open(\"similarweb/{}.txt\".format(c), \"r\" ).read().splitlines()) \n",
    "    "
   ]
  },
  {
   "cell_type": "code",
   "execution_count": 3,
   "id": "chicken-vocabulary",
   "metadata": {},
   "outputs": [],
   "source": [
    "bad_domains=set(\"co.uk co.jp co.hu co.il com.au co.ve .co.in com.ec com.pk co.th co.nz com.br com.sg com.sa \\\n",
    "com.do co.za com.hk com.mx com.ly com.ua com.eg com.pe com.tr co.kr com.ng com.pe com.pk co.th \\\n",
    "com.au com.ph com.my com.tw com.ec com.kw co.in co.id com.com com.vn com.bd com.ar \\\n",
    "com.co com.vn org.uk net.gr\".split())\n",
    "\n",
    "def getGood2LD(fqdn):\n",
    "    if fqdn[-1] == \".\":\n",
    "        fqdn = fqdn[:-1]    \n",
    "    names = fqdn.split(\".\")\n",
    "    if \".\".join(names[-2:]) in bad_domains:\n",
    "        return get3LD(fqdn)\n",
    "    tln_array = names[-2:]\n",
    "    tln = \"\"\n",
    "    for s in tln_array:\n",
    "        tln = tln + \".\" + s\n",
    "    return tln[1:]\n",
    "\n",
    "def get3LD(fqdn):\n",
    "    if fqdn[-1] == \".\":\n",
    "        fqdn = fqdn[:-1]\n",
    "    names = fqdn.split(\".\")\n",
    "    tln_array = names[-3:]\n",
    "    tln = \"\"\n",
    "    for s in tln_array:\n",
    "        tln = tln + \".\" + s\n",
    "    return tln[1:]"
   ]
  },
  {
   "cell_type": "code",
   "execution_count": 6,
   "id": "subjective-portsmouth",
   "metadata": {},
   "outputs": [],
   "source": [
    "df = pd.read_csv(\"data/tranco-cold-cache.csv\")\n",
    "\n",
    "df[\"sld\"] = df[\"url\"].apply(lambda u: getGood2LD(u.split(\"/\")[2] ).strip() ) \n",
    "df[\"tld\"] = df[\"url\"].apply(lambda u: get3LD(u.split(\"/\")[2] ).strip()  ) "
   ]
  },
  {
   "cell_type": "code",
   "execution_count": 7,
   "id": "returning-frederick",
   "metadata": {},
   "outputs": [],
   "source": [
    "for country in similarweb_websites:\n",
    "    df[country] = (df.sld.isin(similarweb_websites[country])) | (df.tld.isin(similarweb_websites[country]))\n"
   ]
  },
  {
   "cell_type": "code",
   "execution_count": 8,
   "id": "southwest-telescope",
   "metadata": {},
   "outputs": [],
   "source": [
    "similarweb_csv = pd.read_csv(\"similarweb/similarweb.csv\")\n",
    "similarweb_csv[\"category\"] = similarweb_csv[\"category\"].apply(lambda s: TRANSLATE_CATEGORIES[s] if s in TRANSLATE_CATEGORIES else s)\n",
    "\n",
    "categories = defaultdict(set)\n",
    "\n",
    "for row in similarweb_csv.itertuples():\n",
    "    if row.category != \"ALL\" and row.country in {\"it\", \"es\", \"fr\", \"de\", \"uk\"} :\n",
    "        categories[row.category].add(row.website)\n",
    "        \n",
    "for category in categories:\n",
    "    df[category] = (df.sld.isin(categories[category])) | (df.tld.isin(categories[category]))\n"
   ]
  },
  {
   "cell_type": "code",
   "execution_count": 9,
   "id": "innocent-conjunction",
   "metadata": {},
   "outputs": [],
   "source": [
    "def get_trackers(s):\n",
    "    d = json.loads(s)\n",
    "    this_trackers = set()\n",
    "    for c in d:\n",
    "        if (c[\"domain\"] in trackers or getGood2LD(c[\"domain\"]) in trackers or get3LD(c[\"domain\"]) in trackers) and c[\"expires\"] > 0:\n",
    "            this_trackers.add(getGood2LD(c[\"domain\"]))\n",
    "    return list(this_trackers)\n",
    "\n",
    "df[\"trackers_first\"] = df[\"cookie_first\"].apply(get_trackers)\n",
    "df[\"trackers_click\"] = df[\"cookie_click\"].apply(get_trackers)\n",
    "df[\"trackers_internal\"] = df[\"cookie_internal\"].apply(get_trackers)"
   ]
  },
  {
   "cell_type": "code",
   "execution_count": 10,
   "id": "comparable-utilization",
   "metadata": {},
   "outputs": [],
   "source": [
    "def website_stats(this_df):\n",
    "    num = len(this_df.index)\n",
    "    trackers_first = set()\n",
    "    trackers_click = set()\n",
    "    trackers_internal = set()\n",
    "    \n",
    "    trackers_first_all = set(this_df.iloc[0].trackers_first)\n",
    "    trackers_click_all = set(this_df.iloc[0].trackers_click)\n",
    "    trackers_internal_all = set(this_df.iloc[0].trackers_internal)\n",
    "\n",
    "    has_found_banner = False\n",
    "    \n",
    "    tp_first = set()\n",
    "    tp_click = set()\n",
    "    \n",
    "    countries = { c:False for c in similarweb_websites.keys()}\n",
    "    cats = { c:False for c in categories.keys()}\n",
    "    #+ list(similarweb_websites.keys()) + list(categories.keys())\n",
    "    \n",
    "    \n",
    "    for i, row in this_df.iterrows():\n",
    "\n",
    "        trackers_first |= set(row.trackers_first)\n",
    "        trackers_click |= set(row.trackers_click)\n",
    "        trackers_internal |= set(row.trackers_internal)\n",
    "        \n",
    "        trackers_first_all &= set(row.trackers_first)\n",
    "        trackers_click_all &= set(row.trackers_click)\n",
    "        trackers_internal_all &= set(row.trackers_internal)\n",
    "\n",
    "        \n",
    "        tp_first |= set([ getGood2LD(d) for d in json.loads(row.domains_first) if d != \"\"] )\n",
    "        tp_click |= set([ getGood2LD(d) for d in json.loads(row.domains_click) if d != \"\"])      \n",
    "        \n",
    "        for c in list(similarweb_websites.keys()):\n",
    "            countries[c] |= row[c]\n",
    "\n",
    "        for c in list(categories.keys()):\n",
    "            cats[c] |= row[c]\n",
    "            \n",
    "        if row.has_found_banner:\n",
    "            has_found_banner=True\n",
    "        \n",
    "    trackers_only_click = trackers_click - trackers_first\n",
    "       \n",
    "    return pd.Series({\"count\": num,\n",
    "                      \"trackers_first\": trackers_first,\n",
    "                      \"trackers_click\": trackers_click,\n",
    "                      \"trackers_only_click\": trackers_only_click,\n",
    "                      \"trackers_internal\": trackers_internal,\n",
    "                      \n",
    "                      \"trackers_first_all\": trackers_first_all,\n",
    "                      \"trackers_click_all\": trackers_click_all,\n",
    "                      \"trackers_internal_all\": trackers_internal_all,\n",
    "                    \n",
    "                      \"tp_first\": tp_first,\n",
    "                      \"tp_click\": tp_click,\n",
    "                      \"has_found_banner\": has_found_banner,\n",
    "                      \"onload_first\": this_df[\"onload_first\"].median(),\n",
    "                      \"onload_second\": this_df[\"onload_second\"].median(),\n",
    "                      \"rum_first\": this_df[\"rum_first\"].mean(),\n",
    "                      \"rum_second\": this_df[\"rum_second\"].mean(),\n",
    "                      \"objects_first\": this_df[\"objects_first\"].mean(),\n",
    "                      \"objects_second\": this_df[\"objects_second\"].mean(),\n",
    "                      \"bytes_first\": this_df[\"bytes_first\"].median(),\n",
    "                      \"bytes_second\": this_df[\"bytes_second\"].median(),\n",
    "                      \"byte_index_first\": this_df[\"byte_index_first\"].mean(),\n",
    "                      \"object_index_first\": this_df[\"object_index_first\"].mean(),\n",
    "                      \"byte_index_second\": this_df[\"byte_index_second\"].mean(),\n",
    "                      \"object_index_second\": this_df[\"object_index_second\"].mean(),\n",
    "                      **countries, **cats\n",
    "                     })\n",
    "\n",
    "grouped = df.groupby([\"sld\"] ).apply(website_stats).reset_index()"
   ]
  },
  {
   "cell_type": "code",
   "execution_count": 11,
   "id": "utility-hands",
   "metadata": {},
   "outputs": [
    {
     "name": "stdout",
     "output_type": "stream",
     "text": [
      "23589\n"
     ]
    }
   ],
   "source": [
    "grouped[\"tp_first_nb\"] = grouped[\"tp_first\"].apply(len)\n",
    "grouped[\"tp_click_nb\"] = grouped[\"tp_click\"].apply(len)\n",
    "\n",
    "this_grouped =  grouped[(grouped[\"has_found_banner\"]==True) & \\\n",
    "                        (grouped[\"onload_first\"] > 0 ) & (grouped[\"rum_first\"] > 0 ) & \\\n",
    "                        (grouped[\"bytes_first\"] > 0)   & (grouped[\"objects_first\"] > 0) ].copy()\n",
    "\n",
    "this_grouped[\"onload_ratio\"] = (this_grouped[\"onload_second\"] - this_grouped[\"onload_first\"])/this_grouped[\"onload_first\"]\n",
    "this_grouped[\"bytes_ratio\"] = (this_grouped[\"bytes_second\"] - this_grouped[\"bytes_first\"])/this_grouped[\"bytes_first\"]\n",
    "this_grouped[\"objects_ratio\"] = (this_grouped[\"objects_second\"] - this_grouped[\"objects_first\"])/this_grouped[\"objects_first\"]\n",
    "this_grouped[\"tp_ratio\"] = (this_grouped[\"tp_click_nb\"] - this_grouped[\"tp_first_nb\"])/this_grouped[\"tp_first_nb\"]\n",
    "\n",
    "this_grouped[\"bytes_ratio\"] = (this_grouped[\"bytes_second\"])/this_grouped[\"bytes_first\"]\n",
    "this_grouped[\"objects_ratio\"] = (this_grouped[\"objects_second\"] )/this_grouped[\"objects_first\"]\n",
    "\n",
    "\n",
    "this_grouped[\"rum_ratio\"] = (this_grouped[\"rum_second\"] - this_grouped[\"rum_first\"])/this_grouped[\"rum_first\"]\n",
    "this_grouped[\"byte_index_ratio\"] = (this_grouped[\"byte_index_second\"] - this_grouped[\"byte_index_first\"])/this_grouped[\"byte_index_first\"]\n",
    "this_grouped[\"object_index_ratio\"] = (this_grouped[\"object_index_second\"] - this_grouped[\"object_index_first\"])/this_grouped[\"object_index_first\"]\n",
    "print(len(this_grouped))"
   ]
  },
  {
   "cell_type": "code",
   "execution_count": 15,
   "id": "disciplinary-terrorism",
   "metadata": {},
   "outputs": [
    {
     "data": {
      "text/plain": [
       "<Figure size 640x480 with 0 Axes>"
      ]
     },
     "metadata": {},
     "output_type": "display_data"
    },
    {
     "data": {
      "image/png": "[encoded data removed]",
      "text/plain": [
       "<Figure size 425x250 with 1 Axes>"
      ]
     },
     "metadata": {},
     "output_type": "display_data"
    }
   ],
   "source": [
    "this_grouped_plot = this_grouped[ (this_grouped[\"bytes_first\"]>0 ) & (this_grouped[\"onload_first\"]<60000 ) & (this_grouped[\"onload_second\"]<60000 )].copy()\n",
    "\n",
    "this_grouped_plot[\"trackers_click_nb\"] = this_grouped_plot[\"trackers_click\"].apply(len)\n",
    "this_grouped_plot[\"trackers_first_nb\"] = this_grouped_plot[\"trackers_first\"].apply(len)\n",
    "this_grouped_plot[\"trackers_diff_nb\"] = this_grouped_plot[\"trackers_click_nb\"] - this_grouped_plot[\"trackers_first_nb\"]\n",
    "this_grouped_plot[\"tp_nb_diff\"] = this_grouped_plot[\"tp_click_nb\"] - this_grouped_plot[\"tp_first_nb\"]\n",
    "\n",
    "def get_bin(nb):\n",
    "    if nb <=0:\n",
    "        return \"$0$\"\n",
    "    elif nb <=10:\n",
    "        return \"$1-10$\"\n",
    "    elif nb <=20:\n",
    "        return \"$10-20$\"\n",
    "    elif nb <=50:\n",
    "        return \"$20-50$\"\n",
    "    else:\n",
    "        return \"$>50$\"\n",
    "\n",
    "this_grouped_plot[\"bin\"] = this_grouped_plot[\"tp_nb_diff\"].apply(get_bin)\n",
    "\n",
    "to_plot = this_grouped_plot.groupby(\"bin\")[[\"onload_first\", \"onload_second\"]].apply(lambda df: (df/1000).transpose().apply(list, axis=1))\n",
    "to_plot = to_plot.rename(columns={\"onload_first\": BEFORE_STR, \"onload_second\": AFTER_STR})\n",
    "to_plot = to_plot.reindex([\"$0$\", \"$1-10$\", \"$10-20$\", \"$20-50$\", \"$>50$\"])\n",
    "#to_plot = to_plot.reindex([\"$0$\", \"$1-5$\", \"$6-10$\", \"$11-20$\", \"$>20$\"])\n",
    "\n",
    "plot = fastplot.plot( to_plot ,None, \n",
    "               mode='boxplot_multi', ylabel = 'OnLoad [s]', xlabel = \"Third-Party Increase After Acceptance\",\n",
    "               legend = True, legend_loc = \"upper left\",\n",
    "               boxplot_whis=[10,90], ylim = (0,10), yticks = ([0,1,2,3,4,5,6,7,8,9,10], None), boxplot_palette=\"Set1\",\n",
    "               cycler = fastplot.CYCLER_LINES, \n",
    "               **PLOT_ARGS)\n",
    "\n",
    "for p in plot.gca().artists[::2] + [plot.gca().get_legend().get_patches()[0]]:\n",
    "    p.set_hatch(\"\\\\\\\\\\\\\\\\\\\\\")\n",
    "    p.set_edgecolor (\"red\")\n",
    "    p.set_facecolor (\"white\")\n",
    "for p in plot.gca().artists[1::2]+ [plot.gca().get_legend().get_patches()[1]]:\n",
    "    p.set_hatch(\"/////\")\n",
    "    p.set_edgecolor (\"blue\")\n",
    "    p.set_facecolor (\"white\")\n",
    "    \n",
    "for i in [ e for e in np.arange(len(to_plot.index)*10 ) if int(int(e/5) % 2) == 0]:\n",
    "    plot.gca().lines[i].set_color (\"red\")\n",
    "for i in [ e for e in np.arange(len(to_plot.index)*10 ) if int(int(e/5) % 2) == 1]:\n",
    "    plot.gca().lines[i].set_color (\"blue\")\n",
    "    \n",
    "for i, n in enumerate(to_plot.applymap(len)[BEFORE_STR]):\n",
    "    plot.text(i, 10.5, \"~\", ha=\"center\", va=\"center\")\n",
    "    \n",
    "plot.savefig(\"plots/cookieaccept_onload_by_tracker_tranco_cold_cache.pdf\")\n",
    "plot.show()"
   ]
  }
 ],
 "metadata": {
  "kernelspec": {
   "display_name": "Python 3",
   "language": "python",
   "name": "python3"
  },
  "language_info": {
   "codemirror_mode": {
    "name": "ipython",
    "version": 3
   },
   "file_extension": ".py",
   "mimetype": "text/x-python",
   "name": "python",
   "nbconvert_exporter": "python",
   "pygments_lexer": "ipython3",
   "version": "3.7.9"
  }
 },
 "nbformat": 4,
 "nbformat_minor": 5
}
